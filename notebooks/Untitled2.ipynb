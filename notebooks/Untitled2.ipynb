{
 "cells": [
  {
   "cell_type": "markdown",
   "metadata": {},
   "source": [
    "# Faster weighted percentile"
   ]
  },
  {
   "cell_type": "code",
   "execution_count": 9,
   "metadata": {},
   "outputs": [],
   "source": [
    "import numpy as np\n",
    "import numba"
   ]
  },
  {
   "cell_type": "code",
   "execution_count": 70,
   "metadata": {},
   "outputs": [],
   "source": [
    "#@numba.jit(cache=True, nopython=True)\n",
    "def weighted_percentile(data, percentile, weights):\n",
    "    '''                                                                                                                                                                                                                                                       \n",
    "    percenttile (0..100)                                                                                                                                                                                                                                      \n",
    "    weights specifies the frequency (count) of data.                                                                                                                                                                                                          \n",
    "    '''                                                                                                                                                                                          \n",
    "    ind = np.argsort(data)                                                                                                                                                                                                                                      \n",
    "    data = data[ind]                                                                                                                                                                                                                                               \n",
    "    weights = weights[ind]                                                                                                                                                                                                                                            \n",
    "    p = weights.cumsum() / weights.sum() * 100\n",
    "    return data[np.searchsorted(p, percentile)]"
   ]
  },
  {
   "cell_type": "code",
   "execution_count": 48,
   "metadata": {},
   "outputs": [],
   "source": [
    "def weighted_percentile_orig(data, percentile, weights):\n",
    "    '''                                                                                                                                                                                                                                                       \n",
    "    percenttile (0..100)                                                                                                                                                                                                                                      \n",
    "    weights specifies the frequency (count) of data.                                                                                                                                                                                                          \n",
    "    '''                                                                                                                                                                                          \n",
    "    ind=np.argsort(data)                                                                                                                                                                                                                                      \n",
    "    d=data[ind]                                                                                                                                                                                                                                               \n",
    "    w=weights[ind]                                                                                                                                                                                                                                            \n",
    "    p= w.cumsum() / w.sum() * 100\n",
    "    y = np.interp(percentile, p, d)\n",
    "    return y       "
   ]
  },
  {
   "cell_type": "code",
   "execution_count": 85,
   "metadata": {},
   "outputs": [],
   "source": [
    "a = np.random.rand(10000)\n",
    "w = np.random.rand(10000)"
   ]
  },
  {
   "cell_type": "code",
   "execution_count": 86,
   "metadata": {},
   "outputs": [
    {
     "name": "stdout",
     "output_type": "stream",
     "text": [
      "0.493268612452\n",
      "CPU times: user 3.04 ms, sys: 0 ns, total: 3.04 ms\n",
      "Wall time: 2.23 ms\n"
     ]
    }
   ],
   "source": [
    "%%time\n",
    "print weighted_percentile(a, 50, w)"
   ]
  },
  {
   "cell_type": "code",
   "execution_count": 87,
   "metadata": {},
   "outputs": [
    {
     "name": "stdout",
     "output_type": "stream",
     "text": [
      "0.493161623316\n",
      "CPU times: user 3.46 ms, sys: 0 ns, total: 3.46 ms\n",
      "Wall time: 2.3 ms\n"
     ]
    }
   ],
   "source": [
    "%%time\n",
    "print weighted_percentile_orig(a, 50, w)"
   ]
  },
  {
   "cell_type": "code",
   "execution_count": 88,
   "metadata": {},
   "outputs": [
    {
     "name": "stdout",
     "output_type": "stream",
     "text": [
      "CPU times: user 1.45 ms, sys: 87 µs, total: 1.54 ms\n",
      "Wall time: 949 µs\n"
     ]
    },
    {
     "data": {
      "text/plain": [
       "0.49092384039345416"
      ]
     },
     "execution_count": 88,
     "metadata": {},
     "output_type": "execute_result"
    }
   ],
   "source": [
    "%%time\n",
    "np.percentile(a, 50)"
   ]
  },
  {
   "cell_type": "code",
   "execution_count": 89,
   "metadata": {},
   "outputs": [
    {
     "name": "stdout",
     "output_type": "stream",
     "text": [
      "CPU times: user 1.41 ms, sys: 85 µs, total: 1.49 ms\n",
      "Wall time: 894 µs\n"
     ]
    },
    {
     "data": {
      "text/plain": [
       "0.49092384039345416"
      ]
     },
     "execution_count": 89,
     "metadata": {},
     "output_type": "execute_result"
    }
   ],
   "source": [
    "%%time\n",
    "np.median(a)"
   ]
  },
  {
   "cell_type": "code",
   "execution_count": 81,
   "metadata": {},
   "outputs": [],
   "source": [
    "def wp(data, weights, q):\n",
    "    sorted_values = np.sort(data)\n",
    "    n = np.sum(weights)\n",
    "    # compute target cumulative weight for requested percentile(s)\n",
    "    target_weight = q * (n - 1)\n",
    "    # find indices which bound this cumweight\n",
    "    idx_left = np.searchsorted(cum_sorted_weight, target_weight, side='right')\n",
    "    idx_right = np.searchsorted(cum_sorted_weight, target_weight + 1, side='right')\n",
    "    idx_right = np.minimum(idx_right, len(sorted_values) - 1)\n",
    "    # where are we between the two bounds?\n",
    "    frac = target_weight - np.floor(target_weight)dd\n",
    "    # get two values to interpolate between\n",
    "    v_left = sorted_values[idx_left]\n",
    "    v_right = sorted_values[idx_right]\n",
    "    return v_left + (v_right - v_left) * frac"
   ]
  },
  {
   "cell_type": "code",
   "execution_count": 82,
   "metadata": {},
   "outputs": [
    {
     "ename": "NameError",
     "evalue": "global name 'cum_sorted_weight' is not defined",
     "output_type": "error",
     "traceback": [
      "\u001b[0;31m\u001b[0m",
      "\u001b[0;31mNameError\u001b[0mTraceback (most recent call last)",
      "\u001b[0;32m<ipython-input-82-ae238a44c217>\u001b[0m in \u001b[0;36m<module>\u001b[0;34m()\u001b[0m\n\u001b[0;32m----> 1\u001b[0;31m \u001b[0mwp\u001b[0m\u001b[0;34m(\u001b[0m\u001b[0ma\u001b[0m\u001b[0;34m,\u001b[0m\u001b[0mw\u001b[0m\u001b[0;34m,\u001b[0m\u001b[0;36m0.5\u001b[0m\u001b[0;34m)\u001b[0m\u001b[0;34m\u001b[0m\u001b[0m\n\u001b[0m",
      "\u001b[0;32m<ipython-input-81-9c0a0c2e12cf>\u001b[0m in \u001b[0;36mwp\u001b[0;34m(data, weights, q)\u001b[0m\n\u001b[1;32m      5\u001b[0m     \u001b[0mtarget_weight\u001b[0m \u001b[0;34m=\u001b[0m \u001b[0mq\u001b[0m \u001b[0;34m*\u001b[0m \u001b[0;34m(\u001b[0m\u001b[0mn\u001b[0m \u001b[0;34m-\u001b[0m \u001b[0;36m1\u001b[0m\u001b[0;34m)\u001b[0m\u001b[0;34m\u001b[0m\u001b[0m\n\u001b[1;32m      6\u001b[0m     \u001b[0;31m# find indices which bound this cumweight\u001b[0m\u001b[0;34m\u001b[0m\u001b[0;34m\u001b[0m\u001b[0m\n\u001b[0;32m----> 7\u001b[0;31m     \u001b[0midx_left\u001b[0m \u001b[0;34m=\u001b[0m \u001b[0mnp\u001b[0m\u001b[0;34m.\u001b[0m\u001b[0msearchsorted\u001b[0m\u001b[0;34m(\u001b[0m\u001b[0mcum_sorted_weight\u001b[0m\u001b[0;34m,\u001b[0m \u001b[0mtarget_weight\u001b[0m\u001b[0;34m,\u001b[0m \u001b[0mside\u001b[0m\u001b[0;34m=\u001b[0m\u001b[0;34m'right'\u001b[0m\u001b[0;34m)\u001b[0m\u001b[0;34m\u001b[0m\u001b[0m\n\u001b[0m\u001b[1;32m      8\u001b[0m     \u001b[0midx_right\u001b[0m \u001b[0;34m=\u001b[0m \u001b[0mnp\u001b[0m\u001b[0;34m.\u001b[0m\u001b[0msearchsorted\u001b[0m\u001b[0;34m(\u001b[0m\u001b[0mcum_sorted_weight\u001b[0m\u001b[0;34m,\u001b[0m \u001b[0mtarget_weight\u001b[0m \u001b[0;34m+\u001b[0m \u001b[0;36m1\u001b[0m\u001b[0;34m,\u001b[0m \u001b[0mside\u001b[0m\u001b[0;34m=\u001b[0m\u001b[0;34m'right'\u001b[0m\u001b[0;34m)\u001b[0m\u001b[0;34m\u001b[0m\u001b[0m\n\u001b[1;32m      9\u001b[0m     \u001b[0midx_right\u001b[0m \u001b[0;34m=\u001b[0m \u001b[0mnp\u001b[0m\u001b[0;34m.\u001b[0m\u001b[0mminimum\u001b[0m\u001b[0;34m(\u001b[0m\u001b[0midx_right\u001b[0m\u001b[0;34m,\u001b[0m \u001b[0mlen\u001b[0m\u001b[0;34m(\u001b[0m\u001b[0msorted_values\u001b[0m\u001b[0;34m)\u001b[0m \u001b[0;34m-\u001b[0m \u001b[0;36m1\u001b[0m\u001b[0;34m)\u001b[0m\u001b[0;34m\u001b[0m\u001b[0m\n",
      "\u001b[0;31mNameError\u001b[0m: global name 'cum_sorted_weight' is not defined"
     ]
    }
   ],
   "source": [
    "wp(a,w,0.5)"
   ]
  },
  {
   "cell_type": "code",
   "execution_count": null,
   "metadata": {},
   "outputs": [],
   "source": []
  }
 ],
 "metadata": {
  "kernelspec": {
   "display_name": "Python 2",
   "language": "python",
   "name": "python2"
  },
  "language_info": {
   "codemirror_mode": {
    "name": "ipython",
    "version": 2
   },
   "file_extension": ".py",
   "mimetype": "text/x-python",
   "name": "python",
   "nbconvert_exporter": "python",
   "pygments_lexer": "ipython2",
   "version": "2.7.14"
  }
 },
 "nbformat": 4,
 "nbformat_minor": 2
}
