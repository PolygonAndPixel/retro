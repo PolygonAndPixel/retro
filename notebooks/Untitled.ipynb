{
 "cells": [
  {
   "cell_type": "code",
   "execution_count": 55,
   "metadata": {},
   "outputs": [],
   "source": [
    "import numpy as np\n",
    "from numba import jit, float64\n",
    "import numba\n",
    "import math"
   ]
  },
  {
   "cell_type": "code",
   "execution_count": 128,
   "metadata": {},
   "outputs": [],
   "source": [
    "@jit(nopython=True)\n",
    "def fun(vector, big_array):\n",
    "    out = np.empty(vector.shape, dtype=np.float32)\n",
    "    for i in range(vector.shape[0]):\n",
    "        for j in range(big_array.shape[1]):\n",
    "            #idx = (j * big_array.shape[1]) + i\n",
    "            #out[i] += my_sqrt(big_array.take(idx))\n",
    "            out[i] += my_sqrt(big_array['test'][i,j])\n",
    "            #out[i] += my_sqrt(big_array[i,j])\n",
    "    return out"
   ]
  },
  {
   "cell_type": "code",
   "execution_count": 115,
   "metadata": {},
   "outputs": [],
   "source": [
    "@jit(nopython=True)\n",
    "def my_sqrt(a):\n",
    "    return np.sqrt(a)"
   ]
  },
  {
   "cell_type": "code",
   "execution_count": 125,
   "metadata": {},
   "outputs": [],
   "source": [
    "mydtype = np.dtype([('test', np.float32)])\n",
    "#mydtype = np.float32\n",
    "N = 10000\n",
    "a = np.linspace(0,10,N, dtype=mydtype)\n",
    "big_array = np.random.rand(N,N).astype(mydtype)"
   ]
  },
  {
   "cell_type": "code",
   "execution_count": 129,
   "metadata": {},
   "outputs": [
    {
     "name": "stdout",
     "output_type": "stream",
     "text": [
      "1 loop, best of 3: 135 ms per loop\n"
     ]
    }
   ],
   "source": [
    "%%timeit\n",
    "out = fun(a, big_array)"
   ]
  },
  {
   "cell_type": "code",
   "execution_count": 138,
   "metadata": {},
   "outputs": [
    {
     "data": {
      "text/plain": [
       "<function __main__.fun>"
      ]
     },
     "execution_count": 138,
     "metadata": {},
     "output_type": "execute_result"
    }
   ],
   "source": [
    "fun.get_overload(fun.overloads.keys()[0])"
   ]
  },
  {
   "cell_type": "code",
   "execution_count": null,
   "metadata": {},
   "outputs": [],
   "source": []
  }
 ],
 "metadata": {
  "kernelspec": {
   "display_name": "Python 2",
   "language": "python",
   "name": "python2"
  },
  "language_info": {
   "codemirror_mode": {
    "name": "ipython",
    "version": 2
   },
   "file_extension": ".py",
   "mimetype": "text/x-python",
   "name": "python",
   "nbconvert_exporter": "python",
   "pygments_lexer": "ipython2",
   "version": "2.7.14"
  }
 },
 "nbformat": 4,
 "nbformat_minor": 2
}
